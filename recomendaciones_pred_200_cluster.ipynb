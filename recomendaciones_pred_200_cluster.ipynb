{
 "cells": [
  {
   "cell_type": "code",
   "execution_count": 1,
   "metadata": {},
   "outputs": [],
   "source": [
    "import pandas as pd\n",
    "import numpy as np\n",
    "import matplotlib.pyplot as plt\n",
    "import pickle"
   ]
  },
  {
   "cell_type": "code",
   "execution_count": 2,
   "metadata": {},
   "outputs": [],
   "source": [
    "from IPython.display import display, Markdown\n",
    "def display_df(df):\n",
    "    display(Markdown(df.to_markdown()))"
   ]
  },
  {
   "cell_type": "code",
   "execution_count": 3,
   "metadata": {},
   "outputs": [],
   "source": [
    "model = pickle.load(open('pickles/recomendaciones_compras_200_clusters.pickle', 'rb')) #To load saved model from local directory"
   ]
  },
  {
   "cell_type": "code",
   "execution_count": 4,
   "metadata": {},
   "outputs": [],
   "source": [
    "infochamigo = pd.read_excel('infochamigo.xlsx')\n",
    "infochamigo['ventaid'] = infochamigo['ventaid'].dropna()\n",
    "infochamigo['maestroid'] = infochamigo['maestroid'].dropna()"
   ]
  },
  {
   "cell_type": "code",
   "execution_count": 5,
   "metadata": {},
   "outputs": [
    {
     "data": {
      "text/html": [
       "<div>\n",
       "<style scoped>\n",
       "    .dataframe tbody tr th:only-of-type {\n",
       "        vertical-align: middle;\n",
       "    }\n",
       "\n",
       "    .dataframe tbody tr th {\n",
       "        vertical-align: top;\n",
       "    }\n",
       "\n",
       "    .dataframe thead th {\n",
       "        text-align: right;\n",
       "    }\n",
       "</style>\n",
       "<table border=\"1\" class=\"dataframe\">\n",
       "  <thead>\n",
       "    <tr style=\"text-align: right;\">\n",
       "      <th></th>\n",
       "      <th>CERVEZAS10</th>\n",
       "      <th>CERVEZAS100</th>\n",
       "      <th>CERVEZAS101</th>\n",
       "      <th>CERVEZAS102</th>\n",
       "      <th>CERVEZAS103</th>\n",
       "      <th>CERVEZAS104</th>\n",
       "      <th>CERVEZAS105</th>\n",
       "      <th>CERVEZAS11</th>\n",
       "      <th>CERVEZAS110</th>\n",
       "      <th>CERVEZAS111</th>\n",
       "      <th>...</th>\n",
       "      <th>GRAL9788</th>\n",
       "      <th>GRAL98</th>\n",
       "      <th>GRAL9803</th>\n",
       "      <th>GRAL9818</th>\n",
       "      <th>GRAL9847</th>\n",
       "      <th>GRAL9849</th>\n",
       "      <th>GRAL9852</th>\n",
       "      <th>GRAL99</th>\n",
       "      <th>GRAL990</th>\n",
       "      <th>GRAL9973</th>\n",
       "    </tr>\n",
       "    <tr>\n",
       "      <th>ventaid</th>\n",
       "      <th></th>\n",
       "      <th></th>\n",
       "      <th></th>\n",
       "      <th></th>\n",
       "      <th></th>\n",
       "      <th></th>\n",
       "      <th></th>\n",
       "      <th></th>\n",
       "      <th></th>\n",
       "      <th></th>\n",
       "      <th></th>\n",
       "      <th></th>\n",
       "      <th></th>\n",
       "      <th></th>\n",
       "      <th></th>\n",
       "      <th></th>\n",
       "      <th></th>\n",
       "      <th></th>\n",
       "      <th></th>\n",
       "      <th></th>\n",
       "      <th></th>\n",
       "    </tr>\n",
       "  </thead>\n",
       "  <tbody>\n",
       "    <tr>\n",
       "      <th>317</th>\n",
       "      <td>0</td>\n",
       "      <td>0</td>\n",
       "      <td>0</td>\n",
       "      <td>0</td>\n",
       "      <td>0</td>\n",
       "      <td>0</td>\n",
       "      <td>0</td>\n",
       "      <td>0</td>\n",
       "      <td>0</td>\n",
       "      <td>0</td>\n",
       "      <td>...</td>\n",
       "      <td>0</td>\n",
       "      <td>0</td>\n",
       "      <td>0</td>\n",
       "      <td>0</td>\n",
       "      <td>0</td>\n",
       "      <td>0</td>\n",
       "      <td>0</td>\n",
       "      <td>0</td>\n",
       "      <td>0</td>\n",
       "      <td>0</td>\n",
       "    </tr>\n",
       "    <tr>\n",
       "      <th>326</th>\n",
       "      <td>0</td>\n",
       "      <td>0</td>\n",
       "      <td>0</td>\n",
       "      <td>0</td>\n",
       "      <td>0</td>\n",
       "      <td>0</td>\n",
       "      <td>0</td>\n",
       "      <td>0</td>\n",
       "      <td>0</td>\n",
       "      <td>0</td>\n",
       "      <td>...</td>\n",
       "      <td>0</td>\n",
       "      <td>0</td>\n",
       "      <td>0</td>\n",
       "      <td>0</td>\n",
       "      <td>0</td>\n",
       "      <td>0</td>\n",
       "      <td>0</td>\n",
       "      <td>0</td>\n",
       "      <td>0</td>\n",
       "      <td>0</td>\n",
       "    </tr>\n",
       "    <tr>\n",
       "      <th>330</th>\n",
       "      <td>0</td>\n",
       "      <td>0</td>\n",
       "      <td>0</td>\n",
       "      <td>0</td>\n",
       "      <td>0</td>\n",
       "      <td>0</td>\n",
       "      <td>0</td>\n",
       "      <td>0</td>\n",
       "      <td>0</td>\n",
       "      <td>0</td>\n",
       "      <td>...</td>\n",
       "      <td>0</td>\n",
       "      <td>0</td>\n",
       "      <td>0</td>\n",
       "      <td>0</td>\n",
       "      <td>0</td>\n",
       "      <td>0</td>\n",
       "      <td>0</td>\n",
       "      <td>0</td>\n",
       "      <td>0</td>\n",
       "      <td>0</td>\n",
       "    </tr>\n",
       "    <tr>\n",
       "      <th>331</th>\n",
       "      <td>0</td>\n",
       "      <td>0</td>\n",
       "      <td>0</td>\n",
       "      <td>0</td>\n",
       "      <td>0</td>\n",
       "      <td>0</td>\n",
       "      <td>0</td>\n",
       "      <td>0</td>\n",
       "      <td>0</td>\n",
       "      <td>0</td>\n",
       "      <td>...</td>\n",
       "      <td>0</td>\n",
       "      <td>0</td>\n",
       "      <td>0</td>\n",
       "      <td>0</td>\n",
       "      <td>0</td>\n",
       "      <td>0</td>\n",
       "      <td>0</td>\n",
       "      <td>0</td>\n",
       "      <td>0</td>\n",
       "      <td>0</td>\n",
       "    </tr>\n",
       "    <tr>\n",
       "      <th>339</th>\n",
       "      <td>0</td>\n",
       "      <td>1</td>\n",
       "      <td>0</td>\n",
       "      <td>0</td>\n",
       "      <td>0</td>\n",
       "      <td>0</td>\n",
       "      <td>0</td>\n",
       "      <td>0</td>\n",
       "      <td>0</td>\n",
       "      <td>0</td>\n",
       "      <td>...</td>\n",
       "      <td>0</td>\n",
       "      <td>0</td>\n",
       "      <td>0</td>\n",
       "      <td>0</td>\n",
       "      <td>0</td>\n",
       "      <td>0</td>\n",
       "      <td>0</td>\n",
       "      <td>0</td>\n",
       "      <td>0</td>\n",
       "      <td>0</td>\n",
       "    </tr>\n",
       "  </tbody>\n",
       "</table>\n",
       "<p>5 rows × 2503 columns</p>\n",
       "</div>"
      ],
      "text/plain": [
       "         CERVEZAS10  CERVEZAS100  CERVEZAS101  CERVEZAS102  CERVEZAS103  \\\n",
       "ventaid                                                                   \n",
       "317               0            0            0            0            0   \n",
       "326               0            0            0            0            0   \n",
       "330               0            0            0            0            0   \n",
       "331               0            0            0            0            0   \n",
       "339               0            1            0            0            0   \n",
       "\n",
       "         CERVEZAS104  CERVEZAS105  CERVEZAS11  CERVEZAS110  CERVEZAS111  ...  \\\n",
       "ventaid                                                                  ...   \n",
       "317                0            0           0            0            0  ...   \n",
       "326                0            0           0            0            0  ...   \n",
       "330                0            0           0            0            0  ...   \n",
       "331                0            0           0            0            0  ...   \n",
       "339                0            0           0            0            0  ...   \n",
       "\n",
       "         GRAL9788  GRAL98  GRAL9803  GRAL9818  GRAL9847  GRAL9849  GRAL9852  \\\n",
       "ventaid                                                                       \n",
       "317             0       0         0         0         0         0         0   \n",
       "326             0       0         0         0         0         0         0   \n",
       "330             0       0         0         0         0         0         0   \n",
       "331             0       0         0         0         0         0         0   \n",
       "339             0       0         0         0         0         0         0   \n",
       "\n",
       "         GRAL99  GRAL990  GRAL9973  \n",
       "ventaid                             \n",
       "317           0        0         0  \n",
       "326           0        0         0  \n",
       "330           0        0         0  \n",
       "331           0        0         0  \n",
       "339           0        0         0  \n",
       "\n",
       "[5 rows x 2503 columns]"
      ]
     },
     "execution_count": 5,
     "metadata": {},
     "output_type": "execute_result"
    }
   ],
   "source": [
    "compras_table = pd.read_csv('compras_table.csv', index_col='ventaid')\n",
    "compras_table.head()"
   ]
  },
  {
   "cell_type": "code",
   "execution_count": 6,
   "metadata": {},
   "outputs": [
    {
     "data": {
      "text/markdown": [
       "|       |   labels |   ventaid |\n",
       "|------:|---------:|----------:|\n",
       "|  2260 |      199 |      3616 |\n",
       "|  7245 |      199 |     23399 |\n",
       "|  5257 |      199 |     18111 |\n",
       "|  6503 |      199 |     21180 |\n",
       "| 16039 |      199 |     51908 |\n",
       "| 16041 |      199 |     51921 |\n",
       "| 18502 |      199 |     59089 |\n",
       "| 13205 |      199 |     43906 |\n",
       "| 13189 |      199 |     43869 |\n",
       "| 15540 |      199 |     50198 |"
      ],
      "text/plain": [
       "<IPython.core.display.Markdown object>"
      ]
     },
     "metadata": {},
     "output_type": "display_data"
    }
   ],
   "source": [
    "# Predict the cluster labels: labels\n",
    "labels = model.predict(compras_table)\n",
    "\n",
    "# Create a DataFrame aligning labels and companies: df\n",
    "df = pd.DataFrame({'labels': labels, 'ventaid': compras_table.index})\n",
    "\n",
    "# Display df sorted by cluster label\n",
    "display_df(df.sort_values('labels', ascending=False).head(10))\n"
   ]
  },
  {
   "cell_type": "markdown",
   "metadata": {},
   "source": [
    "## Conteo de los cluster (grupo de recomendaciones) mas frequentes"
   ]
  },
  {
   "cell_type": "code",
   "execution_count": 7,
   "metadata": {},
   "outputs": [
    {
     "data": {
      "text/markdown": [
       "|   labels |    0 |\n",
       "|---------:|-----:|\n",
       "|        0 | 6287 |\n",
       "|        1 |  880 |\n",
       "|       14 |  807 |\n",
       "|       36 |  504 |\n",
       "|       11 |  475 |"
      ],
      "text/plain": [
       "<IPython.core.display.Markdown object>"
      ]
     },
     "metadata": {},
     "output_type": "display_data"
    }
   ],
   "source": [
    "display_df(df.groupby('labels').size().sort_values(ascending=False).head())"
   ]
  },
  {
   "cell_type": "markdown",
   "metadata": {},
   "source": [
    "## Veamos cual es el combo mas comprado"
   ]
  },
  {
   "cell_type": "code",
   "execution_count": 19,
   "metadata": {},
   "outputs": [
    {
     "data": {
      "text/markdown": [
       "|            |   items |\n",
       "|:-----------|--------:|\n",
       "| CERVEZAS76 |      59 |\n",
       "| GRAL7658   |      48 |\n",
       "| GRAL5299   |      47 |\n",
       "| GRAL496    |      47 |\n",
       "| GRAL5980   |      41 |\n",
       "| GRAL84     |      36 |\n",
       "| GRAL5579   |      35 |\n",
       "| GRAL8712   |      35 |\n",
       "| GRAL529    |      33 |\n",
       "| GRAL523    |      32 |"
      ],
      "text/plain": [
       "<IPython.core.display.Markdown object>"
      ]
     },
     "metadata": {},
     "output_type": "display_data"
    }
   ],
   "source": [
    "ventaids = df[df['labels'] == 0]['ventaid']\n",
    "recomendaciones = compras_table[compras_table.index.isin(ventaids)]\n",
    "items = recomendaciones.melt(var_name='items')\n",
    "items = items[items['value'] > 0]\n",
    "recomendaciones_counts = items['items'].value_counts(ascending=False)\n",
    "display_df(recomendaciones_counts.head(10))"
   ]
  },
  {
   "cell_type": "markdown",
   "metadata": {},
   "source": [
    "## Visualizemos las agrupaciones de productos con un Histograma"
   ]
  },
  {
   "cell_type": "code",
   "execution_count": 10,
   "metadata": {},
   "outputs": [
    {
     "data": {
      "image/png": "[encoded data removed]",
      "text/plain": [
       "<Figure size 1200x800 with 1 Axes>"
      ]
     },
     "metadata": {
      "needs_background": "light"
     },
     "output_type": "display_data"
    }
   ],
   "source": [
    "plt.rcParams[\"figure.dpi\"] = 200\n",
    "bins = np.arange(0, df.labels.max() + 1.5) - 0.5\n",
    "plt.hist(df.labels, bins)\n",
    "plt.xlabel('ventaid')\n",
    "plt.ylabel('count')\n",
    "plt.show()"
   ]
  },
  {
   "cell_type": "markdown",
   "metadata": {},
   "source": [
    "### Creamos un dataframe con todos los items disponibles"
   ]
  },
  {
   "cell_type": "code",
   "execution_count": 11,
   "metadata": {},
   "outputs": [
    {
     "data": {
      "text/markdown": [
       "|    | items       |\n",
       "|---:|:------------|\n",
       "|  0 | CERVEZAS10  |\n",
       "|  1 | CERVEZAS100 |\n",
       "|  2 | CERVEZAS101 |\n",
       "|  3 | CERVEZAS102 |\n",
       "|  4 | CERVEZAS103 |"
      ],
      "text/plain": [
       "<IPython.core.display.Markdown object>"
      ]
     },
     "metadata": {},
     "output_type": "display_data"
    }
   ],
   "source": [
    "items = compras_table.columns.values\n",
    "items_series = compras_table.columns\n",
    "items_df = pd.DataFrame({'items': items})\n",
    "display_df(items_df.head())"
   ]
  },
  {
   "cell_type": "markdown",
   "metadata": {},
   "source": [
    "## Realizamos el lookup del 'item_busqueda' y visualizamos las recomendaciones"
   ]
  },
  {
   "cell_type": "code",
   "execution_count": 12,
   "metadata": {},
   "outputs": [
    {
     "data": {
      "text/html": [
       "<div>\n",
       "<style scoped>\n",
       "    .dataframe tbody tr th:only-of-type {\n",
       "        vertical-align: middle;\n",
       "    }\n",
       "\n",
       "    .dataframe tbody tr th {\n",
       "        vertical-align: top;\n",
       "    }\n",
       "\n",
       "    .dataframe thead th {\n",
       "        text-align: right;\n",
       "    }\n",
       "</style>\n",
       "<table border=\"1\" class=\"dataframe\">\n",
       "  <thead>\n",
       "    <tr style=\"text-align: right;\">\n",
       "      <th></th>\n",
       "      <th>CERVEZAS10</th>\n",
       "      <th>CERVEZAS100</th>\n",
       "      <th>CERVEZAS101</th>\n",
       "      <th>CERVEZAS102</th>\n",
       "      <th>CERVEZAS103</th>\n",
       "      <th>CERVEZAS104</th>\n",
       "      <th>CERVEZAS105</th>\n",
       "      <th>CERVEZAS11</th>\n",
       "      <th>CERVEZAS110</th>\n",
       "      <th>CERVEZAS111</th>\n",
       "      <th>...</th>\n",
       "      <th>GRAL9788</th>\n",
       "      <th>GRAL98</th>\n",
       "      <th>GRAL9803</th>\n",
       "      <th>GRAL9818</th>\n",
       "      <th>GRAL9847</th>\n",
       "      <th>GRAL9849</th>\n",
       "      <th>GRAL9852</th>\n",
       "      <th>GRAL99</th>\n",
       "      <th>GRAL990</th>\n",
       "      <th>GRAL9973</th>\n",
       "    </tr>\n",
       "  </thead>\n",
       "  <tbody>\n",
       "    <tr>\n",
       "      <th>0</th>\n",
       "      <td>False</td>\n",
       "      <td>False</td>\n",
       "      <td>False</td>\n",
       "      <td>False</td>\n",
       "      <td>False</td>\n",
       "      <td>False</td>\n",
       "      <td>False</td>\n",
       "      <td>False</td>\n",
       "      <td>False</td>\n",
       "      <td>False</td>\n",
       "      <td>...</td>\n",
       "      <td>False</td>\n",
       "      <td>False</td>\n",
       "      <td>False</td>\n",
       "      <td>False</td>\n",
       "      <td>False</td>\n",
       "      <td>False</td>\n",
       "      <td>False</td>\n",
       "      <td>False</td>\n",
       "      <td>False</td>\n",
       "      <td>False</td>\n",
       "    </tr>\n",
       "  </tbody>\n",
       "</table>\n",
       "<p>1 rows × 2503 columns</p>\n",
       "</div>"
      ],
      "text/plain": [
       "   CERVEZAS10  CERVEZAS100  CERVEZAS101  CERVEZAS102  CERVEZAS103  \\\n",
       "0       False        False        False        False        False   \n",
       "\n",
       "   CERVEZAS104  CERVEZAS105  CERVEZAS11  CERVEZAS110  CERVEZAS111  ...  \\\n",
       "0        False        False       False        False        False  ...   \n",
       "\n",
       "   GRAL9788  GRAL98  GRAL9803  GRAL9818  GRAL9847  GRAL9849  GRAL9852  GRAL99  \\\n",
       "0     False   False     False     False     False     False     False   False   \n",
       "\n",
       "   GRAL990  GRAL9973  \n",
       "0    False     False  \n",
       "\n",
       "[1 rows x 2503 columns]"
      ]
     },
     "metadata": {},
     "output_type": "display_data"
    }
   ],
   "source": [
    "item_busqueda = 'GRAL479'\n",
    "input_row = np.array([items_series == item_busqueda])\n",
    "input_df = pd.DataFrame(data=input_row, columns=items)\n",
    "display(input_df)\n",
    "label = model.predict(input_df)[0]"
   ]
  },
  {
   "cell_type": "code",
   "execution_count": 17,
   "metadata": {},
   "outputs": [
    {
     "data": {
      "text/plain": [
       "61"
      ]
     },
     "execution_count": 17,
     "metadata": {},
     "output_type": "execute_result"
    }
   ],
   "source": [
    "ventaids = df[df['labels'] == label]['ventaid']\n",
    "recomendaciones = compras_table[compras_table.index.isin(ventaids)]\n",
    "items = recomendaciones.melt(var_name='items')\n",
    "items = items[items['value'] > 0]\n",
    "recomendaciones_counts = items['items'].value_counts(ascending=False)\n",
    "len(recomendaciones_counts)\n"
   ]
  },
  {
   "cell_type": "code",
   "execution_count": 18,
   "metadata": {},
   "outputs": [
    {
     "data": {
      "text/markdown": [
       "|              |   items |\n",
       "|:-------------|--------:|\n",
       "| GRAL479      |      63 |\n",
       "| GRAL3731     |       9 |\n",
       "| CERVEZAS56   |       8 |\n",
       "| CERVEZAS228  |       4 |\n",
       "| CERVEZAS8427 |       4 |\n",
       "| GRAL10844    |       3 |\n",
       "| GRAL117      |       2 |\n",
       "| GRAL73       |       2 |\n",
       "| GRAL449      |       2 |\n",
       "| GRAL3732     |       2 |\n",
       "| GRAL4812     |       2 |\n",
       "| GRAL76       |       1 |\n",
       "| GRAL8707     |       1 |\n",
       "| GRAL4870     |       1 |\n",
       "| GRAL489      |       1 |\n",
       "| GRAL4982     |       1 |\n",
       "| GRAL500      |       1 |\n",
       "| GRAL501      |       1 |\n",
       "| GRAL502      |       1 |\n",
       "| GRAL9075     |       1 |\n",
       "| GRAL512      |       1 |\n",
       "| GRAL529      |       1 |\n",
       "| GRAL8685     |       1 |\n",
       "| GRAL8185     |       1 |\n",
       "| GRAL533      |       1 |\n",
       "| GRAL5965     |       1 |\n",
       "| GRAL6013     |       1 |\n",
       "| GRAL6026     |       1 |\n",
       "| GRAL8208     |       1 |\n",
       "| GRAL6344     |       1 |\n",
       "| GRAL6537     |       1 |\n",
       "| GRAL6694     |       1 |\n",
       "| GRAL6722     |       1 |\n",
       "| CERVEZAS156  |       1 |\n",
       "| GRAL4583     |       1 |\n",
       "| GRAL478      |       1 |\n",
       "| GRAL4724     |       1 |\n",
       "| CERVEZAS190  |       1 |\n",
       "| CERVEZAS192  |       1 |\n",
       "| CERVEZAS231  |       1 |\n",
       "| CERVEZAS249  |       1 |\n",
       "| CERVEZAS278  |       1 |\n",
       "| CERVEZAS90   |       1 |\n",
       "| GRAL10216    |       1 |\n",
       "| GRAL10874    |       1 |\n",
       "| GRAL11171    |       1 |\n",
       "| GRAL11406    |       1 |\n",
       "| GRAL11472    |       1 |\n",
       "| GRAL12220    |       1 |\n",
       "| GRAL126      |       1 |\n",
       "| GRAL131      |       1 |\n",
       "| GRAL3703     |       1 |\n",
       "| GRAL4439     |       1 |\n",
       "| GRAL445      |       1 |\n",
       "| GRAL4561     |       1 |\n",
       "| GRAL457      |       1 |\n",
       "| GRAL458      |       1 |\n",
       "| CERVEZAS170  |       1 |\n",
       "| GRAL4621     |       1 |\n",
       "| GRAL472      |       1 |\n",
       "| GRAL9565     |       1 |"
      ],
      "text/plain": [
       "<IPython.core.display.Markdown object>"
      ]
     },
     "metadata": {},
     "output_type": "display_data"
    }
   ],
   "source": [
    "display_df(recomendaciones_counts)"
   ]
  },
  {
   "cell_type": "markdown",
   "metadata": {},
   "source": [
    "## GRAL479 -> FANTA NARANJA\n",
    "## GRAL3731 -> UVITA\n",
    "## CERVEZAS56 -> PILSEN\n",
    "## GRAL117 -> PALERMO\n"
   ]
  }
 ],
 "metadata": {
  "interpreter": {
   "hash": "63fd5069d213b44bf678585dea6b12cceca9941eaf7f819626cde1f2670de90d"
  },
  "kernelspec": {
   "display_name": "Python 3.9.1 64-bit",
   "language": "python",
   "name": "python3"
  },
  "language_info": {
   "codemirror_mode": {
    "name": "ipython",
    "version": 3
   },
   "file_extension": ".py",
   "mimetype": "text/x-python",
   "name": "python",
   "nbconvert_exporter": "python",
   "pygments_lexer": "ipython3",
   "version": "3.8.12"
  },
  "orig_nbformat": 4
 },
 "nbformat": 4,
 "nbformat_minor": 2
}
